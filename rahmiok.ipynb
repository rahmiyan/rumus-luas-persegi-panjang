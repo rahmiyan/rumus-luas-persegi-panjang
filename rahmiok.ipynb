{
  "nbformat": 4,
  "nbformat_minor": 0,
  "metadata": {
    "colab": {
      "provenance": [],
      "authorship_tag": "ABX9TyMD7Pl0XDf03HO1YHT7YdGx",
      "include_colab_link": true
    },
    "kernelspec": {
      "name": "python3",
      "display_name": "Python 3"
    },
    "language_info": {
      "name": "python"
    }
  },
  "cells": [
    {
      "cell_type": "markdown",
      "metadata": {
        "id": "view-in-github",
        "colab_type": "text"
      },
      "source": [
        "<a href=\"https://colab.research.google.com/github/rahmiyan/rumus-luas-persegi-panjang/blob/main/rahmiok.ipynb\" target=\"_parent\"><img src=\"https://colab.research.google.com/assets/colab-badge.svg\" alt=\"Open In Colab\"/></a>"
      ]
    },
    {
      "cell_type": "markdown",
      "source": [],
      "metadata": {
        "id": "Tu7XAcbXT6LZ"
      }
    },
    {
      "cell_type": "markdown",
      "source": [
        "panjang = 50\n",
        "lebar = 20\n",
        "luas = panjang*lebar\n",
        "print(\"luas persegi panjang adalah :,luas,\"cm\")"
      ],
      "metadata": {
        "id": "ixzXD7TfU3_I"
      }
    },
    {
      "cell_type": "code",
      "source": [],
      "metadata": {
        "id": "5jZ1p5QsU0rN"
      },
      "execution_count": null,
      "outputs": []
    },
    {
      "cell_type": "code",
      "source": [],
      "metadata": {
        "id": "CdLP_QmyT3KM"
      },
      "execution_count": null,
      "outputs": []
    },
    {
      "cell_type": "markdown",
      "source": [],
      "metadata": {
        "id": "6I5YcAeQT3qf"
      }
    }
  ]
}