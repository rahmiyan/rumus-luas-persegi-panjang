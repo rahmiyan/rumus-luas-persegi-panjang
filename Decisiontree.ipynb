{
  "nbformat": 4,
  "nbformat_minor": 0,
  "metadata": {
    "colab": {
      "provenance": [],
      "authorship_tag": "ABX9TyMfAN4DXpIiI2DkR3r8PDR9",
      "include_colab_link": true
    },
    "kernelspec": {
      "name": "python3",
      "display_name": "Python 3"
    },
    "language_info": {
      "name": "python"
    }
  },
  "cells": [
    {
      "cell_type": "markdown",
      "metadata": {
        "id": "view-in-github",
        "colab_type": "text"
      },
      "source": [
        "<a href=\"https://colab.research.google.com/github/rahmiyan/rumus-luas-persegi-panjang/blob/main/Decisiontree.ipynb\" target=\"_parent\"><img src=\"https://colab.research.google.com/assets/colab-badge.svg\" alt=\"Open In Colab\"/></a>"
      ]
    },
    {
      "cell_type": "code",
      "execution_count": null,
      "metadata": {
        "colab": {
          "base_uri": "https://localhost:8080/"
        },
        "id": "kxOE6rIUXK-S",
        "outputId": "5d4ba67f-2587-47d1-b452-b3fc2351c601"
      },
      "outputs": [
        {
          "output_type": "stream",
          "name": "stdout",
          "text": [
            "=== Prediksi Pergi ke Pasar ===\n",
            "Pilihan cuaca: [np.str_('cerah'), np.str_('hujan'), np.str_('mendung')]\n",
            "Pilihan hari: [np.str_('kerja'), np.str_('libur')]\n",
            "Pilihan uang: [np.str_('cukup'), np.str_('kurang')]\n"
          ]
        }
      ],
      "source": [
        "from sklearn.tree import DecisionTreeClassifier\n",
        "from sklearn.preprocessing import LabelEncoder\n",
        "from sklearn.model_selection import train_test_split\n",
        "\n",
        "# 1. Dataset simulasi\n",
        "data = [\n",
        "    ['cerah', 'libur', 'cukup', 'ya'],\n",
        "    ['hujan', 'libur', 'cukup', 'tidak'],\n",
        "    ['mendung', 'kerja', 'cukup', 'tidak'],\n",
        "    ['cerah', 'kerja', 'cukup', 'ya'],\n",
        "    ['cerah', 'kerja', 'kurang', 'tidak'],\n",
        "    ['hujan', 'kerja', 'kurang', 'tidak'],\n",
        "    ['mendung', 'libur', 'cukup', 'ya'],\n",
        "    ['cerah', 'libur', 'kurang', 'tidak'],\n",
        "    ['hujan', 'libur', 'kurang', 'tidak'],\n",
        "    ['mendung', 'kerja', 'kurang', 'tidak']\n",
        "]\n",
        "\n",
        "# 2. Pisahkan fitur dan label\n",
        "X = [row[:-1] for row in data]\n",
        "y = [row[-1] for row in data]\n",
        "\n",
        "# 3. Label encoding\n",
        "le_cuaca = LabelEncoder()\n",
        "le_hari = LabelEncoder()\n",
        "le_uang = LabelEncoder()\n",
        "le_label = LabelEncoder()\n",
        "\n",
        "cuaca = le_cuaca.fit_transform([row[0] for row in X])\n",
        "hari = le_hari.fit_transform([row[1] for row in X])\n",
        "uang = le_uang.fit_transform([row[2] for row in X])\n",
        "y_encoded = le_label.fit_transform(y)\n",
        "\n",
        "X_encoded = list(zip(cuaca, hari, uang))\n",
        "\n",
        "# 4. Model training\n",
        "X_train, X_test, y_train, y_test = train_test_split(X_encoded, y_encoded, test_size=0.3, random_state=42)\n",
        "model = DecisionTreeClassifier()\n",
        "model.fit(X_train, y_train)\n",
        "\n",
        "# 5. Input dari pengguna\n",
        "print(\"=== Prediksi Pergi ke Pasar ===\")\n",
        "print(\"Pilihan cuaca:\", list(le_cuaca.classes_))\n",
        "print(\"Pilihan hari:\", list(le_hari.classes_))\n",
        "print(\"Pilihan uang:\", list(le_uang.classes_))\n",
        "\n",
        "cuaca_input = input(\"Masukkan cuaca: \").lower()\n",
        "hari_input = input(\"Masukkan hari: \").lower()\n",
        "uang_input = input(\"Masukkan kondisi uang: \").lower()\n",
        "\n",
        "# 6. Validasi dan prediksi\n",
        "if (cuaca_input not in le_cuaca.classes_ or\n",
        "    hari_input not in le_hari.classes_ or\n",
        "    uang_input not in le_uang.classes_):\n",
        "    print(\"⚠️ Input tidak valid. Harap masukkan sesuai pilihan.\")\n",
        "else:\n",
        "    input_encoded = [\n",
        "        le_cuaca.transform([cuaca_input])[0],\n",
        "        le_hari.transform([hari_input])[0],\n",
        "        le_uang.transform([uang_input])[0]\n",
        "    ]\n",
        "\n",
        "    prediksi = model.predict([input_encoded])\n",
        "    hasil = le_label.inverse_transform(prediksi)[0]\n",
        "\n",
        "    print(f\"\\n📢 Prediksi: {'Pergi ke pasar' if hasil == 'ya' else 'Tidak pergi ke pasar'}\")\n"
      ]
    }
  ]
}