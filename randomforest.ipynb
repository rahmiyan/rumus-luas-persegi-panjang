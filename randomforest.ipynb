{
  "nbformat": 4,
  "nbformat_minor": 0,
  "metadata": {
    "colab": {
      "provenance": [],
      "authorship_tag": "ABX9TyNeZbERRNICUh52pyD42r//",
      "include_colab_link": true
    },
    "kernelspec": {
      "name": "python3",
      "display_name": "Python 3"
    },
    "language_info": {
      "name": "python"
    }
  },
  "cells": [
    {
      "cell_type": "markdown",
      "metadata": {
        "id": "view-in-github",
        "colab_type": "text"
      },
      "source": [
        "<a href=\"https://colab.research.google.com/github/rahmiyan/rumus-luas-persegi-panjang/blob/main/randomforest.ipynb\" target=\"_parent\"><img src=\"https://colab.research.google.com/assets/colab-badge.svg\" alt=\"Open In Colab\"/></a>"
      ]
    },
    {
      "cell_type": "code",
      "execution_count": 1,
      "metadata": {
        "colab": {
          "base_uri": "https://localhost:8080/"
        },
        "id": "Z9XHH1LtaZwt",
        "outputId": "0c07ba75-ea63-4766-8ad3-980118b099a2"
      },
      "outputs": [
        {
          "output_type": "stream",
          "name": "stdout",
          "text": [
            "Akurasi model Random Forest: 100.0 %\n",
            "Prediksi jenis bunga: setosa\n"
          ]
        }
      ],
      "source": [
        "# Import library yang dibutuhkan\n",
        "from sklearn.datasets import load_iris\n",
        "from sklearn.ensemble import RandomForestClassifier\n",
        "from sklearn.model_selection import train_test_split\n",
        "from sklearn.metrics import accuracy_score\n",
        "\n",
        "# 1. Memuat dataset iris\n",
        "iris = load_iris()\n",
        "X = iris.data  # fitur (panjang dan lebar kelopak/daun)\n",
        "y = iris.target  # target (jenis bunga iris)\n",
        "\n",
        "# 2. Membagi data menjadi data latih dan data uji\n",
        "X_train, X_test, y_train, y_test = train_test_split(X, y, test_size=0.3, random_state=42)\n",
        "\n",
        "# 3. Membuat model Random Forest\n",
        "model = RandomForestClassifier(n_estimators=100, random_state=42)\n",
        "model.fit(X_train, y_train)  # Melatih model\n",
        "\n",
        "# 4. Memprediksi data uji\n",
        "y_pred = model.predict(X_test)\n",
        "\n",
        "# 5. Menampilkan akurasi\n",
        "accuracy = accuracy_score(y_test, y_pred)\n",
        "print(\"Akurasi model Random Forest:\", round(accuracy * 100, 2), \"%\")\n",
        "\n",
        "# 6. Coba prediksi dengan data baru\n",
        "sample = [[5.0, 3.6, 1.4, 0.2]]  # Panjang & lebar kelopak/daun\n",
        "prediction = model.predict(sample)\n",
        "print(\"Prediksi jenis bunga:\", iris.target_names[prediction[0]])\n"
      ]
    }
  ]
}