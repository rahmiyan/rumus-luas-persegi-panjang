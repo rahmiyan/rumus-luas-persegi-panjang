{
  "nbformat": 4,
  "nbformat_minor": 0,
  "metadata": {
    "colab": {
      "provenance": [],
      "include_colab_link": true
    },
    "kernelspec": {
      "name": "python3",
      "display_name": "Python 3"
    },
    "language_info": {
      "name": "python"
    }
  },
  "cells": [
    {
      "cell_type": "markdown",
      "metadata": {
        "id": "view-in-github",
        "colab_type": "text"
      },
      "source": [
        "<a href=\"https://colab.research.google.com/github/rahmiyan/rumus-luas-persegi-panjang/blob/main/BelajarFunction.ipynb\" target=\"_parent\"><img src=\"https://colab.research.google.com/assets/colab-badge.svg\" alt=\"Open In Colab\"/></a>"
      ]
    },
    {
      "cell_type": "markdown",
      "metadata": {
        "id": "GpAfb9IPQmmJ"
      },
      "source": [
        "# **Functions in Python**"
      ]
    },
    {
      "cell_type": "markdown",
      "metadata": {
        "id": "HI36jwFKQmmK"
      },
      "source": [
        "In programming we often come across situations where a particular block of code needs to be repeated or reused. Thus the concept of functions comes into play. A function is basically a block of code which performs a specific task.\n",
        "\n",
        "Functions make the entire code look more organised and manageable. They allow reusability of code and organise the program into small modular chunks."
      ]
    },
    {
      "cell_type": "markdown",
      "metadata": {
        "id": "hJVZzISKQmmK"
      },
      "source": [
        "**Syntax of a Function**"
      ]
    },
    {
      "cell_type": "code",
      "execution_count": null,
      "metadata": {
        "id": "je-XIAaoQmmK"
      },
      "outputs": [],
      "source": [
        "def name_of_function(parameter):\n",
        "    statements"
      ]
    },
    {
      "cell_type": "markdown",
      "metadata": {
        "id": "Qk4l2NgNQmmO"
      },
      "source": [
        "The above example illustrates how a function typically looks like. Notice it contains three parts -\n",
        "1. Keyword def that marks the start of the function header.\n",
        "2. A unique function name which helps in identifying the function.\n",
        "3. Parameters which help us in passing values through the function. They are also known as arguments and are optional.\n",
        "4. Statements consist of the code which performs the specific task for which the function is defined.\n"
      ]
    },
    {
      "cell_type": "code",
      "execution_count": null,
      "metadata": {
        "id": "p3X22xWIQmmO"
      },
      "outputs": [],
      "source": [
        "def sum(x, y): #This example shows a function which can add two numbers x & y\n",
        "    s = x+y\n",
        "    return s"
      ]
    },
    {
      "cell_type": "markdown",
      "metadata": {
        "id": "46Jtqhn5Qmmf"
      },
      "source": [
        "**Function Call**"
      ]
    },
    {
      "cell_type": "code",
      "execution_count": null,
      "metadata": {
        "id": "IPeV9Re1Qmmg"
      },
      "outputs": [],
      "source": [
        "num_1 = 27\n",
        "num_2 = 23\n",
        "print (sum(num_1,num_2)) #Notice how the two numbers are passed into the 'sum' function"
      ]
    },
    {
      "cell_type": "markdown",
      "metadata": {
        "id": "eFIsmmSyQmmy"
      },
      "source": [
        "Functions can be user-defined or built-in. Can you point out an example of each?"
      ]
    },
    {
      "cell_type": "code",
      "execution_count": null,
      "metadata": {
        "id": "_4AIxWThQmmy"
      },
      "outputs": [],
      "source": [
        "#write your answer here"
      ]
    },
    {
      "cell_type": "markdown",
      "metadata": {
        "id": "nNxeCJXPQmm3"
      },
      "source": [
        "Write a function in Python to convert celsius Scale to Fahrenheit Scale"
      ]
    },
    {
      "cell_type": "code",
      "execution_count": null,
      "metadata": {
        "id": "WzdfRNcZQmm3"
      },
      "outputs": [],
      "source": [
        "#Write your answer here"
      ]
    }
  ]
}