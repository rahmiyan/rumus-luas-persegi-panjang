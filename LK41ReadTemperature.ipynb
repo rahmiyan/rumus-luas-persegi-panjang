{
  "nbformat": 4,
  "nbformat_minor": 0,
  "metadata": {
    "colab": {
      "provenance": [],
      "include_colab_link": true
    },
    "kernelspec": {
      "name": "python3",
      "display_name": "Python 3"
    },
    "language_info": {
      "name": "python"
    }
  },
  "cells": [
    {
      "cell_type": "markdown",
      "metadata": {
        "id": "view-in-github",
        "colab_type": "text"
      },
      "source": [
        "<a href=\"https://colab.research.google.com/github/rahmiyan/rumus-luas-persegi-panjang/blob/main/LK41ReadTemperature.ipynb\" target=\"_parent\"><img src=\"https://colab.research.google.com/assets/colab-badge.svg\" alt=\"Open In Colab\"/></a>"
      ]
    },
    {
      "cell_type": "markdown",
      "source": [
        "**Latihan Membuat Program Membaca Suhu**\n",
        "\n",
        "\n"
      ],
      "metadata": {
        "id": "LNQDpRMG9Por"
      }
    },
    {
      "cell_type": "code",
      "execution_count": null,
      "metadata": {
        "id": "DMOAGS9aD2dM",
        "colab": {
          "base_uri": "https://localhost:8080/"
        },
        "outputId": "d90076c8-8860-421c-d7c9-da6f39f5bda6"
      },
      "outputs": [
        {
          "output_type": "stream",
          "name": "stdout",
          "text": [
            "Masukkan suhu ruang saat ini dalam Celius: 21\n",
            "Suhu saat ini tergolong sejuk\n"
          ]
        }
      ],
      "source": [
        "# Read input\n",
        "suhu = int(input(\"Masukkan suhu ruang saat ini dalam Celius: \"))\n",
        "\n",
        "# Evaluasi suhu yang dimasukkan oleh pengguna\n",
        "if suhu > 30:\n",
        "  print(\"Suhu saat ini tergolong panas\")\n",
        "elif suhu >= 20 and suhu <= 30:\n",
        "  print(\"Suhu saat ini tergolong sejuk\")\n",
        "elif suhu < 20:\n",
        "  print(\"Suhu saat ini tergolong dingin sekali\")\n",
        "else:\n",
        "  print(\"Suhu tidak valid untuk di Indonesia\")"
      ]
    },
    {
      "cell_type": "markdown",
      "source": [
        "**Tugas Membuat Program Konversi Suhu dari Celcius ke Fahreinhit atau Kelvin**"
      ],
      "metadata": {
        "id": "YAXC3aYa-NyF"
      }
    },
    {
      "cell_type": "markdown",
      "source": [
        "**Latihan Membuat Program Membaca dan Mengkonversi Suhu dari Celcius ke Fahreinhit atau Kelvin Dengan Menerapkan Fungsi**\n"
      ],
      "metadata": {
        "id": "i64wjtWZ-jSU"
      }
    },
    {
      "cell_type": "code",
      "source": [
        "# Read input\n",
        "suhu = float(input(\"Masukkan suhu ruang saat ini dalam Celius: \"))\n",
        "skalaKonversi = input(\"Silahkan pilih skala konversi suhu (F/K): \").upper()\n",
        "\n",
        "# Fungsi untuk konversi suhu dari Celcius ke Fahreinhit atau Kelvin\n",
        "def konversiSuhu(nilaiSuhu, satuanOutput):\n",
        "    if satuanOutput == 'F':\n",
        "        return nilaiSuhu * 1.8 + 32\n",
        "    elif satuanOutput == 'K':\n",
        "        return nilaiSuhu + 273.15\n",
        "    else:\n",
        "        return nilaiSuhu\n",
        "\n",
        "# Evaluasi suhu yang dimasukkan oleh pengguna\n",
        "if suhu > 30:\n",
        "  print(\"Suhu saat ini tergolong panas\")\n",
        "elif suhu >= 20 and suhu <= 30:\n",
        "  print(\"Suhu saat ini tergolong sejuk\")\n",
        "elif suhu < 20:\n",
        "  print(\"Suhu saat ini tergolong dingin sekali\")\n",
        "else:\n",
        "  print(\"Suhu tidak valid untuk di Indonesia\")\n",
        "\n",
        "# Konversi suhu dan menampilkan hasil\n",
        "hasilKonversi = konversiSuhu(nilaiSuhu=suhu, satuanOutput=skalaKonversi)\n",
        "print(f'Hasil konversi suhu ke {skalaKonversi} adalah sebagai berikut')\n",
        "print(f'{suhu}\"C\" = {hasilKonversi} {skalaKonversi}')"
      ],
      "metadata": {
        "colab": {
          "base_uri": "https://localhost:8080/"
        },
        "id": "nK9vwKt5ycKZ",
        "outputId": "efdd3cd1-8b3d-4aac-aaa3-8cb3185f92d2"
      },
      "execution_count": null,
      "outputs": [
        {
          "output_type": "stream",
          "name": "stdout",
          "text": [
            "Masukkan suhu ruang saat ini dalam Celius: 32\n",
            "Silahkan pilih skala konversi suhu (F/K): F\n",
            "Suhu saat ini tergolong panas\n",
            "Hasil konversi suhu ke F adalah sebagai berikut\n",
            "32.0\"C\" = 89.6 F\n"
          ]
        }
      ]
    },
    {
      "cell_type": "markdown",
      "source": [
        "**Tugas Membuat Program Membaca dan Mengkonversi Suhu dari Suatu Satuan ke Satuan Lain**"
      ],
      "metadata": {
        "id": "NHTXWzXp-sfw"
      }
    },
    {
      "cell_type": "code",
      "source": [],
      "metadata": {
        "id": "HqyexT9g-sC4"
      },
      "execution_count": null,
      "outputs": []
    }
  ]
}